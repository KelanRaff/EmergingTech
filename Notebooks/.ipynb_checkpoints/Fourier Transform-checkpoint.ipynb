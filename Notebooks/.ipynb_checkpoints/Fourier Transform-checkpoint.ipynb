{
 "cells": [
  {
   "cell_type": "markdown",
   "id": "d2d60986",
   "metadata": {},
   "source": [
    "# Fourier Transform\n",
    "## Complex Numbers"
   ]
  },
  {
   "cell_type": "code",
   "execution_count": 35,
   "id": "5a42c173",
   "metadata": {
    "scrolled": true
   },
   "outputs": [
    {
     "data": {
      "text/plain": [
       "(5, 3)"
      ]
     },
     "execution_count": 35,
     "metadata": {},
     "output_type": "execute_result"
    }
   ],
   "source": [
    "# A pair of tuples (length of 2).\n",
    "x = (5, 3)\n",
    "x"
   ]
  },
  {
   "cell_type": "code",
   "execution_count": 5,
   "id": "9130a748",
   "metadata": {},
   "outputs": [
    {
     "data": {
      "text/plain": [
       "(4, -2)"
      ]
     },
     "execution_count": 5,
     "metadata": {},
     "output_type": "execute_result"
    }
   ],
   "source": [
    "y = (4, -2)\n",
    "y"
   ]
  },
  {
   "cell_type": "code",
   "execution_count": 12,
   "id": "03c877e7",
   "metadata": {},
   "outputs": [],
   "source": [
    "# Addition.\n",
    "def tupleAdd(x, y):\n",
    "    return (x[0] + y[0], x[1]+ y[1])"
   ]
  },
  {
   "cell_type": "code",
   "execution_count": 13,
   "id": "1888038d",
   "metadata": {},
   "outputs": [
    {
     "data": {
      "text/plain": [
       "(9, 1)"
      ]
     },
     "execution_count": 13,
     "metadata": {},
     "output_type": "execute_result"
    }
   ],
   "source": [
    "tupleAdd(x, y)"
   ]
  },
  {
   "cell_type": "code",
   "execution_count": 14,
   "id": "72a4fce4",
   "metadata": {},
   "outputs": [],
   "source": [
    "# Multiplication.\n",
    "def mul(x, y):\n",
    "    a, b = x\n",
    "    c, d = y\n",
    "    return (a * c - b * d, a * d + b * c)"
   ]
  },
  {
   "cell_type": "code",
   "execution_count": 15,
   "id": "4cf4bef7",
   "metadata": {},
   "outputs": [
    {
     "data": {
      "text/plain": [
       "(26, 2)"
      ]
     },
     "execution_count": 15,
     "metadata": {},
     "output_type": "execute_result"
    }
   ],
   "source": [
    "mul(x, y)"
   ]
  },
  {
   "cell_type": "code",
   "execution_count": 16,
   "id": "08807100",
   "metadata": {},
   "outputs": [
    {
     "data": {
      "text/plain": [
       "(1+12j)"
      ]
     },
     "execution_count": 16,
     "metadata": {},
     "output_type": "execute_result"
    }
   ],
   "source": [
    "#Addition Using Python Operator\n",
    "(7 + 5j) + (-3 + 4j)"
   ]
  },
  {
   "cell_type": "code",
   "execution_count": 17,
   "id": "e82ab325",
   "metadata": {},
   "outputs": [
    {
     "data": {
      "text/plain": [
       "(-82+157j)"
      ]
     },
     "execution_count": 17,
     "metadata": {},
     "output_type": "execute_result"
    }
   ],
   "source": [
    "# Multiplication using *.\n",
    "(11 + 4j) * (-2 + 15j)"
   ]
  },
  {
   "cell_type": "code",
   "execution_count": 19,
   "id": "c7361186",
   "metadata": {},
   "outputs": [],
   "source": [
    "# In Object Oriented form.\n",
    "class Complex():\n",
    "    def __init__(self, a, b):\n",
    "        self.a = a\n",
    "        self.b = b\n",
    "    \n",
    "    def __add__(self, other):\n",
    "        return Complex(self.a + other.a, self.b + other.b)\n",
    "    \n",
    "    def __mul__(self, other):\n",
    "        a, b = self.a, self.b\n",
    "        c, d = other.a, other.b\n",
    "        return Complex(a*c - b*d, a*d + b*c)\n",
    "    \n",
    "    def __repr__(self):\n",
    "        return f'Complex({self.a}, {self.b})'"
   ]
  },
  {
   "cell_type": "code",
   "execution_count": 21,
   "id": "2ac69a67",
   "metadata": {},
   "outputs": [
    {
     "data": {
      "text/plain": [
       "Complex(3, 7)"
      ]
     },
     "execution_count": 21,
     "metadata": {},
     "output_type": "execute_result"
    }
   ],
   "source": [
    "#Standard use:\n",
    "Complex(4,5)"
   ]
  },
  {
   "cell_type": "code",
   "execution_count": 23,
   "id": "50ef0d74",
   "metadata": {},
   "outputs": [
    {
     "data": {
      "text/plain": [
       "Complex(0, 6)"
      ]
     },
     "execution_count": 23,
     "metadata": {},
     "output_type": "execute_result"
    }
   ],
   "source": [
    "#Overloading with + use case:\n",
    "Complex(6, 2) + Complex(-6, 4)"
   ]
  },
  {
   "cell_type": "code",
   "execution_count": 25,
   "id": "0ce52674",
   "metadata": {},
   "outputs": [
    {
     "data": {
      "text/plain": [
       "Complex(-28, -10)"
      ]
     },
     "execution_count": 25,
     "metadata": {},
     "output_type": "execute_result"
    }
   ],
   "source": [
    "# Overloading *.\n",
    "Complex(1, 4) * Complex(-4,6)"
   ]
  },
  {
   "cell_type": "code",
   "execution_count": 26,
   "id": "99fed9ad",
   "metadata": {},
   "outputs": [],
   "source": [
    "# Instances.\n",
    "x = Complex(1, 4)\n",
    "y = Complex(-4, 6)"
   ]
  },
  {
   "cell_type": "code",
   "execution_count": 27,
   "id": "269c8ca4",
   "metadata": {},
   "outputs": [
    {
     "data": {
      "text/plain": [
       "Complex(1, 12)"
      ]
     },
     "execution_count": 27,
     "metadata": {},
     "output_type": "execute_result"
    }
   ],
   "source": [
    "x + y"
   ]
  },
  {
   "cell_type": "code",
   "execution_count": 28,
   "id": "3787ada7",
   "metadata": {},
   "outputs": [
    {
     "data": {
      "text/plain": [
       "Complex(-41, 1)"
      ]
     },
     "execution_count": 28,
     "metadata": {},
     "output_type": "execute_result"
    }
   ],
   "source": [
    "x * y"
   ]
  },
  {
   "cell_type": "markdown",
   "id": "d97bbb9a",
   "metadata": {},
   "source": [
    "# Plots of Parabolas\n",
    "First, we'll start by importing the necessary libraries:"
   ]
  },
  {
   "cell_type": "code",
   "execution_count": 29,
   "id": "de9a5b0b",
   "metadata": {},
   "outputs": [],
   "source": [
    "import matplotlib.pyplot as plt\n",
    "import numpy as np"
   ]
  },
  {
   "cell_type": "markdown",
   "id": "5aafa4fc",
   "metadata": {},
   "source": [
    "Next, let's define the function that we want to plot. In this case, we'll plot the parabola y = x^2\n",
    "\n",
    "Then, we can use NumPy to generate an array of x values, and then use the parabola function to compute the corresponding y values:"
   ]
  },
  {
   "cell_type": "code",
   "execution_count": 30,
   "id": "7ebf58e5",
   "metadata": {},
   "outputs": [],
   "source": [
    "def parabola(x):\n",
    "    return x**2\n",
    "\n",
    "x = np.linspace(-10, 10, 100)\n",
    "y = parabola(x)"
   ]
  },
  {
   "cell_type": "code",
   "execution_count": 34,
   "id": "294c1112",
   "metadata": {},
   "outputs": [
    {
     "data": {
      "image/png": "[encoded data removed]",
      "text/plain": [
       "<Figure size 640x480 with 1 Axes>"
      ]
     },
     "metadata": {},
     "output_type": "display_data"
    }
   ],
   "source": [
    "plt.plot(x, y)\n",
    "plt.xlabel('x')\n",
    "plt.ylabel('y')\n",
    "plt.title('Graph of a Parabola')\n",
    "plt.axhline(0.0,color='grey')\n",
    "plt.show()"
   ]
  },
  {
   "cell_type": "markdown",
   "id": "ffdf9e69",
   "metadata": {},
   "source": [
    "### Another Example:\n"
   ]
  },
  {
   "cell_type": "code",
   "execution_count": 43,
   "id": "175a571b",
   "metadata": {},
   "outputs": [
    {
     "data": {
      "image/png": "[encoded data removed]",
      "text/plain": [
       "<Figure size 1000x600 with 1 Axes>"
      ]
     },
     "metadata": {},
     "output_type": "display_data"
    }
   ],
   "source": [
    "# Range of x values.\n",
    "x = np.linspace(-10, 10, 100)\n",
    "\n",
    "# Create figure.\n",
    "fig, ax = plt.subplots(figsize=(10,6))\n",
    "\n",
    "# Plot.\n",
    "ax.plot(x, x**2 + 4)\n",
    "\n",
    "# Plot x axis.\n",
    "ax.axhline(0.0, color='grey');"
   ]
  },
  {
   "cell_type": "markdown",
   "id": "728f9d46",
   "metadata": {},
   "source": [
    "### Quadratic Formula:"
   ]
  },
  {
   "cell_type": "markdown",
   "id": "4ead59b0",
   "metadata": {},
   "source": [
    "The quadratic formula is a formula that can be used to find the roots of a quadratic equation of the form ax^2 + bx + c = 0. A quadratic equation is a polynomial equation of degree 2, which means it has the form:\n",
    "\n",
    "        ax^2 + bx + c = 0\n",
    "\n",
    "where a, b, and c are coefficients. The roots of the equation are the values of x that make the equation true.\n"
   ]
  },
  {
   "cell_type": "markdown",
   "id": "826cd419",
   "metadata": {},
   "source": [
    "The quadratic formula allows you to find the roots of a quadratic equation by using the coefficients a, b, and c. The formula is given by"
   ]
  },
  {
   "cell_type": "markdown",
   "id": "06583d82",
   "metadata": {},
   "source": [
    "x = (-b ± √ (b2 - 4ac) )/2a\n",
    "\n",
    "Discriminant is: b2 - 4ac"
   ]
  },
  {
   "cell_type": "code",
   "execution_count": 40,
   "id": "f9fd3fc0",
   "metadata": {},
   "outputs": [],
   "source": [
    "def formula(a, b, c):\n",
    "    undersqrt = (b**2 - 4 * a * c)**0.5\n",
    "    return [(-b - undersqrt) / (2 * a), (-b + undersqrt) / (2 * a)]"
   ]
  },
  {
   "cell_type": "code",
   "execution_count": 41,
   "id": "2c0c1d03",
   "metadata": {},
   "outputs": [
    {
     "data": {
      "text/plain": [
       "[0.0, 0.0]"
      ]
     },
     "execution_count": 41,
     "metadata": {},
     "output_type": "execute_result"
    }
   ],
   "source": [
    "# y = x^2\n",
    "formula(2, 0, 0)"
   ]
  },
  {
   "cell_type": "code",
   "execution_count": 42,
   "id": "2d20af37",
   "metadata": {},
   "outputs": [
    {
     "data": {
      "text/plain": [
       "[-1.5275252316519465, 1.5275252316519465]"
      ]
     },
     "execution_count": 42,
     "metadata": {},
     "output_type": "execute_result"
    }
   ],
   "source": [
    "formula(3, 0, -7)"
   ]
  },
  {
   "cell_type": "code",
   "execution_count": null,
   "id": "c40478bc",
   "metadata": {},
   "outputs": [],
   "source": []
  }
 ],
 "metadata": {
  "kernelspec": {
   "display_name": "Python 3 (ipykernel)",
   "language": "python",
   "name": "python3"
  },
  "language_info": {
   "codemirror_mode": {
    "name": "ipython",
    "version": 3
   },
   "file_extension": ".py",
   "mimetype": "text/x-python",
   "name": "python",
   "nbconvert_exporter": "python",
   "pygments_lexer": "ipython3",
   "version": "3.9.13"
  }
 },
 "nbformat": 4,
 "nbformat_minor": 5
}

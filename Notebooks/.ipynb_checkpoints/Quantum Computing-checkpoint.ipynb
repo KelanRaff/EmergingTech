{
 "cells": [
  {
   "cell_type": "markdown",
   "id": "4b23679d",
   "metadata": {},
   "source": [
    "# Quantum Computing"
   ]
  },
  {
   "cell_type": "markdown",
   "id": "ca594d04",
   "metadata": {},
   "source": [
    "**What is Quantum Computing?**\n",
    "\n",
    "Quantum computing is a theory of computing that uses quantum-mechanics, such as **superposition and entanglement**, to perform computational operations. It has the potential to solve certain problems much faster than classical computers, due to the principles of quantum mechanics allowing quantum computers to execute certain calculations simultaneously."
   ]
  },
  {
   "cell_type": "markdown",
   "id": "b1fadf0e",
   "metadata": {},
   "source": [
    "In a computer, data is organised into bits, which is represented to us as binary.\n",
    "\n",
    "In a quantum computer, data is organised into quantum bits, or qubits. Qubits can represent a 0, a 1, or both values simultaneously (**quantum super-positioning**)"
   ]
  },
  {
   "cell_type": "markdown",
   "id": "a9de24d5",
   "metadata": {},
   "source": [
    "Link to resources linked to quantum computation and algorithms: \n",
    "\n",
    "https://qiskit.org/textbook/preface.html"
   ]
  },
  {
   "cell_type": "code",
   "execution_count": null,
   "id": "5a71cb00",
   "metadata": {},
   "outputs": [],
   "source": []
  }
 ],
 "metadata": {
  "kernelspec": {
   "display_name": "Python 3 (ipykernel)",
   "language": "python",
   "name": "python3"
  },
  "language_info": {
   "codemirror_mode": {
    "name": "ipython",
    "version": 3
   },
   "file_extension": ".py",
   "mimetype": "text/x-python",
   "name": "python",
   "nbconvert_exporter": "python",
   "pygments_lexer": "ipython3",
   "version": "3.9.13"
  }
 },
 "nbformat": 4,
 "nbformat_minor": 5
}

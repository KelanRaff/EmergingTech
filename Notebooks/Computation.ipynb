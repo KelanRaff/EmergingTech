{
 "cells": [
  {
   "cell_type": "markdown",
   "id": "5a320ed2",
   "metadata": {},
   "source": [
    "# Computation"
   ]
  },
  {
   "cell_type": "markdown",
   "id": "ab2a3e0c",
   "metadata": {},
   "source": [
    "##### This notebook is an overview on some computational problems that will set the stage for a Quantum computing notebook later.\n",
    "\n",
    "Some topics to follow in this notebook:\n",
    "\n",
    "- Big O Notation\n",
    "- Growth Rates\n",
    "- Turing Machine\n",
    "- Experiments and Turings Thesis\n"
   ]
  },
  {
   "cell_type": "markdown",
   "id": "f3b03c4a",
   "metadata": {},
   "source": [
    "### Big O Notation"
   ]
  },
  {
   "cell_type": "markdown",
   "id": "ab272c05",
   "metadata": {},
   "source": [
    "Big O notation is a way to describe the performance of an algorithm.\n",
    "\n",
    "For example, suppose we have an algorithm that takes in a list of integers, and we want to know how the runtime of the algorithm scales as the size of the input list grows. We can use Big O notation to describe this scaling;\n",
    "\n",
    "\n"
   ]
  },
  {
   "cell_type": "markdown",
   "id": "10e8d9e5",
   "metadata": {},
   "source": [
    "Some common complexities in Big O notation are:\n",
    "- O(1) : Constant complexity. The number of steps is independent of the size of the input.\n",
    "- O(n) : Linear complexity. The number of steps is directly proportional to the size of the input.\n",
    "- O(n^2) : Quadratic complexity. The number of steps is proportional to the square of the size of the input.\n",
    "- O(n!) : Factorial complexity. The number of steps is proportional to the factorial of the size of the input."
   ]
  },
  {
   "cell_type": "markdown",
   "id": "affe200f",
   "metadata": {},
   "source": [
    "### Examples:"
   ]
  },
  {
   "cell_type": "markdown",
   "id": "b2dd4a27",
   "metadata": {},
   "source": [
    "Lets look at a few examples to see how Big O notation works in practice.\n",
    "Below we have the following function that returns the first element in a list:"
   ]
  },
  {
   "cell_type": "code",
   "execution_count": 3,
   "id": "3e4d32de",
   "metadata": {},
   "outputs": [],
   "source": [
    "def first_element(lst):\n",
    "    return lst[0]"
   ]
  },
  {
   "cell_type": "markdown",
   "id": "70dd6be5",
   "metadata": {},
   "source": [
    "Since the function simply returns the first element of the list, the number of steps is independent of the size of the input.Therefore, the complexity of this function is O(1)."
   ]
  },
  {
   "cell_type": "markdown",
   "id": "27be2a53",
   "metadata": {},
   "source": [
    "Now we have the following function that sums up all the elements in a list:"
   ]
  },
  {
   "cell_type": "code",
   "execution_count": 4,
   "id": "e97ab900",
   "metadata": {},
   "outputs": [],
   "source": [
    "def sum_elements(lst):\n",
    "    total = 0\n",
    "    for x in lst:\n",
    "        total += x\n",
    "    return total"
   ]
  },
  {
   "cell_type": "markdown",
   "id": "2d2efdd1",
   "metadata": {},
   "source": [
    "The number of steps is directly proportional to the size of the input list, because the loop iterates over all the elements in the list. Therefore, the complexity of this function is O(n)."
   ]
  },
  {
   "cell_type": "markdown",
   "id": "0bb445d9",
   "metadata": {},
   "source": [
    "Already we are able to observe the vast differences than can occur with these Time complexities. When working with bigger and bigger amounts of data these become increasingly relevant."
   ]
  },
  {
   "cell_type": "markdown",
   "id": "aa6b4dfd",
   "metadata": {},
   "source": [
    "Finally, suppose we have the following function that checks whether any two elements in a list sum to 0:"
   ]
  },
  {
   "cell_type": "code",
   "execution_count": 6,
   "id": "3ef86a4c",
   "metadata": {},
   "outputs": [],
   "source": [
    "def sum_to_zero(lst):\n",
    "    for i in range(len(lst)):\n",
    "        for j in range(len(lst)):\n",
    "            if lst[i] + lst[j] == 0:\n",
    "                return True\n",
    "    return False"
   ]
  },
  {
   "cell_type": "markdown",
   "id": "605277c0",
   "metadata": {},
   "source": [
    "because the outer loop iterates over all the elements in the list, and the inner loop also iterates over all the elements in the list. Therefore, the complexity of this function is O(n^2)"
   ]
  },
  {
   "cell_type": "markdown",
   "id": "77c2bf4b",
   "metadata": {},
   "source": [
    "### Growth rates"
   ]
  },
  {
   "cell_type": "markdown",
   "id": "37645eef",
   "metadata": {},
   "source": [
    "### Turing machine"
   ]
  },
  {
   "cell_type": "markdown",
   "id": "97711714",
   "metadata": {},
   "source": [
    "### Experiments and Turings thesis"
   ]
  },
  {
   "cell_type": "markdown",
   "id": "b5081e86",
   "metadata": {},
   "source": [
    "### Papers and Articles\n"
   ]
  },
  {
   "cell_type": "markdown",
   "id": "07ccf101",
   "metadata": {},
   "source": [
    "[A Refined Laser Method and Faster Matrix Multiplication](https://arxiv.org/abs/2010.05846) ;Josh Alman, Virginia Vassilevska Williams; arXiv\n",
    "\n",
    "[The FBHHRBNRSSSHK-Algorithm for Multiplication in \n",
    " is still not the end of the story](https://arxiv.org/abs/2210.04045) ; Manuel Kauers, Jakob Moosbauer; arXiv\n",
    " \n",
    "[Discovering faster matrix multiplication algorithms with reinforcement learning](https://www.nature.com/articles/s41586-022-05172-4) ; Alhussein Fawzi, Matej Balog, Aja Huang, Thomas Hubert, Bernardino Romera-Paredes, Mohammadamin Barekatain, Alexander Novikov, Francisco J. R. Ruiz, Julian Schrittwieser, Grzegorz Swirszcz, David Silver, Demis Hassabis & Pushmeet Kohli; Nature\n",
    "\n",
    "[Matrix Multiplication Inches Closer to Mythic Goal](https://www.quantamagazine.org/mathematicians-inch-closer-to-matrix-multiplication-goal-20210323/) ; Kevin Hartnett; Quanta magazine"
   ]
  },
  {
   "cell_type": "code",
   "execution_count": null,
   "id": "2bd34e97",
   "metadata": {},
   "outputs": [],
   "source": []
  }
 ],
 "metadata": {
  "kernelspec": {
   "display_name": "Python 3 (ipykernel)",
   "language": "python",
   "name": "python3"
  },
  "language_info": {
   "codemirror_mode": {
    "name": "ipython",
    "version": 3
   },
   "file_extension": ".py",
   "mimetype": "text/x-python",
   "name": "python",
   "nbconvert_exporter": "python",
   "pygments_lexer": "ipython3",
   "version": "3.9.13"
  }
 },
 "nbformat": 4,
 "nbformat_minor": 5
}
